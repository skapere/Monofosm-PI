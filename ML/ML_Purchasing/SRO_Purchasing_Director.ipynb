{
 "cells": [
  {
   "metadata": {},
   "cell_type": "markdown",
   "source": "#  Supervised Regression Objective",
   "id": "7e7e7d8fc6882949"
  },
  {
   "metadata": {},
   "cell_type": "markdown",
   "source": [
    "**🎯 Objective:** Predict the **total invoice amount** based on purchase and product details.\n",
    "\n",
    "- **Target variable:** `Invoice_Amount`"
   ],
   "id": "84d26e29f7739c5c"
  },
  {
   "metadata": {},
   "cell_type": "markdown",
   "source": "## Step 1: Import Libraries",
   "id": "c7a3d9c051d9184e"
  },
  {
   "metadata": {
    "ExecuteTime": {
     "end_time": "2025-04-22T18:05:08.589149Z",
     "start_time": "2025-04-22T18:05:08.369816Z"
    }
   },
   "cell_type": "code",
   "source": [
    "import pyodbc\n",
    "import pandas as pd \n",
    "from sklearn.model_selection import train_test_split\n",
    "import matplotlib.pyplot as plt "
   ],
   "id": "2f6f90776cc780d7",
   "outputs": [],
   "execution_count": 1
  },
  {
   "metadata": {},
   "cell_type": "markdown",
   "source": "## Step 2: Connect to SQL Server Data Warehouse",
   "id": "7cf90945f5fad51f"
  },
  {
   "metadata": {
    "ExecuteTime": {
     "end_time": "2025-04-22T18:05:08.620698Z",
     "start_time": "2025-04-22T18:05:08.590154Z"
    }
   },
   "cell_type": "code",
   "source": [
    "# SQL Server connection settings (using Windows Authentication)\n",
    "server = 'localhost'  # e.g., 'localhost' or your server name\n",
    "database = 'DW_Monoprix'  # Change to your target Data Warehouse\n",
    "driver = '{ODBC Driver 17 for SQL Server}'\n",
    "\n",
    "# Create connection string and connect\n",
    "connection_string = f'DRIVER={driver};SERVER={server};DATABASE={database};Trusted_Connection=yes;'\n",
    "conn = pyodbc.connect(connection_string)"
   ],
   "id": "9dec6db1d8bd96f9",
   "outputs": [],
   "execution_count": 2
  },
  {
   "metadata": {},
   "cell_type": "markdown",
   "source": "## Step 3: Query Data from Table",
   "id": "d2069afbc47978c6"
  },
  {
   "metadata": {
    "ExecuteTime": {
     "end_time": "2025-04-22T18:05:08.981894Z",
     "start_time": "2025-04-22T18:05:08.621215Z"
    }
   },
   "cell_type": "code",
   "source": [
    "query = \"\"\" SELECT\n",
    "    F.Invoice_Amount,\n",
    "    F.Invoice_VATRate,\n",
    "    F.Product_Price,\n",
    "    F.Product_RecommendedProfitMargin,\n",
    "    F.InvoiceItems_Quantity, \n",
    "    C.BK_Category AS Category, \n",
    "    S.Country, \n",
    "    S.City, \n",
    "    P.Origin, \n",
    "    DATEDIFF(day, InvDate.FullDate, InvDueDate.FullDate) AS Delay_Invoice, \n",
    "    DATEDIFF(day, PsDate.FullDate, PayDueDate.FullDate) AS Delay_Payment \n",
    " FROM Fact_SupplierManagement F \n",
    " LEFT JOIN DimSupplier S ON F.SupplierID = S.PK_Supplier \n",
    " LEFT JOIN DimProduct P ON F.ProductID = P.PK_Product \n",
    " LEFT JOIN DimCategory C ON F.CategoryID = C.PK_Category \n",
    " LEFT JOIN DimDate InvDate ON F.InvoiceDateID = InvDate.PK_Date \n",
    " LEFT JOIN DimDate InvDueDate ON F.InvoiceDueDateID = InvDueDate.PK_Date \n",
    " LEFT JOIN DimDate PayDueDate ON F.InvoicePaymentDueDateID = PayDueDate.PK_Date \n",
    " LEFT JOIN DimDate PsDate ON F.PsDateID = PsDate.PK_Date \n",
    " WHERE F.Invoice_Amount IS NOT NULL\n",
    " \"\"\"\n",
    "\n",
    "# Load the pre-joined data directly from SQL\n",
    "df = pd.read_sql(query, conn)\n",
    "\n",
    "# Replace NaN/NULL in numeric columns with 0\n",
    "df[['Invoice_VATRate', 'Product_Price', 'Delay_Invoice', 'Delay_Payment','Invoice_Amount']] = df[[\n",
    "    'Invoice_VATRate', 'Product_Price', 'Delay_Invoice', 'Delay_Payment','Invoice_Amount'\n",
    "]].fillna(0)\n",
    "\n",
    "# Replace NaN/NULL in categorical columns with 'UNSPECIFIED'\n",
    "df[['Origin', 'Category']] = df[['Origin', 'Category']].fillna('UNSPECIFIED')\n",
    "df[['Country', 'City']] = df[['Country', 'City']].fillna('UNKNOWN')\n",
    "\n",
    "df\n"
   ],
   "id": "bb8807498e3bebe6",
   "outputs": [
    {
     "name": "stderr",
     "output_type": "stream",
     "text": [
      "C:\\Users\\aneek\\AppData\\Local\\Temp\\ipykernel_27084\\832715767.py:25: UserWarning: pandas only supports SQLAlchemy connectable (engine/connection) or database string URI or sqlite3 DBAPI2 connection. Other DBAPI2 objects are not tested. Please consider using SQLAlchemy.\n",
      "  df = pd.read_sql(query, conn)\n"
     ]
    },
    {
     "data": {
      "text/plain": [
       "       Invoice_Amount  Invoice_VATRate  Product_Price  \\\n",
       "0             3212.00              5.5          54.30   \n",
       "1              157.00             10.0          82.80   \n",
       "2             1056.00              0.0           0.00   \n",
       "3             1971.00             20.0          48.71   \n",
       "4              521.00              0.0           0.00   \n",
       "...               ...              ...            ...   \n",
       "10287            3.13              0.0           0.00   \n",
       "10288         3310.83              0.0           0.00   \n",
       "10289          209.30              0.0           0.00   \n",
       "10290            2.53              0.0           0.00   \n",
       "10291         2194.74              0.0           0.00   \n",
       "\n",
       "       Product_RecommendedProfitMargin  InvoiceItems_Quantity     Category  \\\n",
       "0                                22.20                   10.0      Boisson   \n",
       "1                                25.75                    9.0      Boisson   \n",
       "2                                  NaN                    NaN  UNSPECIFIED   \n",
       "3                                39.76                    6.0      Textile   \n",
       "4                                  NaN                    NaN  UNSPECIFIED   \n",
       "...                                ...                    ...          ...   \n",
       "10287                              NaN                    NaN  UNSPECIFIED   \n",
       "10288                              NaN                    NaN  UNSPECIFIED   \n",
       "10289                              NaN                    NaN  UNSPECIFIED   \n",
       "10290                              NaN                    NaN  UNSPECIFIED   \n",
       "10291                              NaN                    NaN  UNSPECIFIED   \n",
       "\n",
       "      Country   City       Origin  Delay_Invoice  Delay_Payment  \n",
       "0      France  Paris       FRANCE             15            0.0  \n",
       "1      France  Paris       FRANCE             81            0.0  \n",
       "2      France  Paris  UNSPECIFIED             43            0.0  \n",
       "3      France  Paris       FRANCE             35        -1041.0  \n",
       "4      France  Paris  UNSPECIFIED             21            0.0  \n",
       "...       ...    ...          ...            ...            ...  \n",
       "10287                 UNSPECIFIED              0            0.0  \n",
       "10288                 UNSPECIFIED              0            0.0  \n",
       "10289                 UNSPECIFIED              0            0.0  \n",
       "10290                 UNSPECIFIED              0            0.0  \n",
       "10291                 UNSPECIFIED              0            0.0  \n",
       "\n",
       "[10292 rows x 11 columns]"
      ],
      "text/html": [
       "<div>\n",
       "<style scoped>\n",
       "    .dataframe tbody tr th:only-of-type {\n",
       "        vertical-align: middle;\n",
       "    }\n",
       "\n",
       "    .dataframe tbody tr th {\n",
       "        vertical-align: top;\n",
       "    }\n",
       "\n",
       "    .dataframe thead th {\n",
       "        text-align: right;\n",
       "    }\n",
       "</style>\n",
       "<table border=\"1\" class=\"dataframe\">\n",
       "  <thead>\n",
       "    <tr style=\"text-align: right;\">\n",
       "      <th></th>\n",
       "      <th>Invoice_Amount</th>\n",
       "      <th>Invoice_VATRate</th>\n",
       "      <th>Product_Price</th>\n",
       "      <th>Product_RecommendedProfitMargin</th>\n",
       "      <th>InvoiceItems_Quantity</th>\n",
       "      <th>Category</th>\n",
       "      <th>Country</th>\n",
       "      <th>City</th>\n",
       "      <th>Origin</th>\n",
       "      <th>Delay_Invoice</th>\n",
       "      <th>Delay_Payment</th>\n",
       "    </tr>\n",
       "  </thead>\n",
       "  <tbody>\n",
       "    <tr>\n",
       "      <th>0</th>\n",
       "      <td>3212.00</td>\n",
       "      <td>5.5</td>\n",
       "      <td>54.30</td>\n",
       "      <td>22.20</td>\n",
       "      <td>10.0</td>\n",
       "      <td>Boisson</td>\n",
       "      <td>France</td>\n",
       "      <td>Paris</td>\n",
       "      <td>FRANCE</td>\n",
       "      <td>15</td>\n",
       "      <td>0.0</td>\n",
       "    </tr>\n",
       "    <tr>\n",
       "      <th>1</th>\n",
       "      <td>157.00</td>\n",
       "      <td>10.0</td>\n",
       "      <td>82.80</td>\n",
       "      <td>25.75</td>\n",
       "      <td>9.0</td>\n",
       "      <td>Boisson</td>\n",
       "      <td>France</td>\n",
       "      <td>Paris</td>\n",
       "      <td>FRANCE</td>\n",
       "      <td>81</td>\n",
       "      <td>0.0</td>\n",
       "    </tr>\n",
       "    <tr>\n",
       "      <th>2</th>\n",
       "      <td>1056.00</td>\n",
       "      <td>0.0</td>\n",
       "      <td>0.00</td>\n",
       "      <td>NaN</td>\n",
       "      <td>NaN</td>\n",
       "      <td>UNSPECIFIED</td>\n",
       "      <td>France</td>\n",
       "      <td>Paris</td>\n",
       "      <td>UNSPECIFIED</td>\n",
       "      <td>43</td>\n",
       "      <td>0.0</td>\n",
       "    </tr>\n",
       "    <tr>\n",
       "      <th>3</th>\n",
       "      <td>1971.00</td>\n",
       "      <td>20.0</td>\n",
       "      <td>48.71</td>\n",
       "      <td>39.76</td>\n",
       "      <td>6.0</td>\n",
       "      <td>Textile</td>\n",
       "      <td>France</td>\n",
       "      <td>Paris</td>\n",
       "      <td>FRANCE</td>\n",
       "      <td>35</td>\n",
       "      <td>-1041.0</td>\n",
       "    </tr>\n",
       "    <tr>\n",
       "      <th>4</th>\n",
       "      <td>521.00</td>\n",
       "      <td>0.0</td>\n",
       "      <td>0.00</td>\n",
       "      <td>NaN</td>\n",
       "      <td>NaN</td>\n",
       "      <td>UNSPECIFIED</td>\n",
       "      <td>France</td>\n",
       "      <td>Paris</td>\n",
       "      <td>UNSPECIFIED</td>\n",
       "      <td>21</td>\n",
       "      <td>0.0</td>\n",
       "    </tr>\n",
       "    <tr>\n",
       "      <th>...</th>\n",
       "      <td>...</td>\n",
       "      <td>...</td>\n",
       "      <td>...</td>\n",
       "      <td>...</td>\n",
       "      <td>...</td>\n",
       "      <td>...</td>\n",
       "      <td>...</td>\n",
       "      <td>...</td>\n",
       "      <td>...</td>\n",
       "      <td>...</td>\n",
       "      <td>...</td>\n",
       "    </tr>\n",
       "    <tr>\n",
       "      <th>10287</th>\n",
       "      <td>3.13</td>\n",
       "      <td>0.0</td>\n",
       "      <td>0.00</td>\n",
       "      <td>NaN</td>\n",
       "      <td>NaN</td>\n",
       "      <td>UNSPECIFIED</td>\n",
       "      <td></td>\n",
       "      <td></td>\n",
       "      <td>UNSPECIFIED</td>\n",
       "      <td>0</td>\n",
       "      <td>0.0</td>\n",
       "    </tr>\n",
       "    <tr>\n",
       "      <th>10288</th>\n",
       "      <td>3310.83</td>\n",
       "      <td>0.0</td>\n",
       "      <td>0.00</td>\n",
       "      <td>NaN</td>\n",
       "      <td>NaN</td>\n",
       "      <td>UNSPECIFIED</td>\n",
       "      <td></td>\n",
       "      <td></td>\n",
       "      <td>UNSPECIFIED</td>\n",
       "      <td>0</td>\n",
       "      <td>0.0</td>\n",
       "    </tr>\n",
       "    <tr>\n",
       "      <th>10289</th>\n",
       "      <td>209.30</td>\n",
       "      <td>0.0</td>\n",
       "      <td>0.00</td>\n",
       "      <td>NaN</td>\n",
       "      <td>NaN</td>\n",
       "      <td>UNSPECIFIED</td>\n",
       "      <td></td>\n",
       "      <td></td>\n",
       "      <td>UNSPECIFIED</td>\n",
       "      <td>0</td>\n",
       "      <td>0.0</td>\n",
       "    </tr>\n",
       "    <tr>\n",
       "      <th>10290</th>\n",
       "      <td>2.53</td>\n",
       "      <td>0.0</td>\n",
       "      <td>0.00</td>\n",
       "      <td>NaN</td>\n",
       "      <td>NaN</td>\n",
       "      <td>UNSPECIFIED</td>\n",
       "      <td></td>\n",
       "      <td></td>\n",
       "      <td>UNSPECIFIED</td>\n",
       "      <td>0</td>\n",
       "      <td>0.0</td>\n",
       "    </tr>\n",
       "    <tr>\n",
       "      <th>10291</th>\n",
       "      <td>2194.74</td>\n",
       "      <td>0.0</td>\n",
       "      <td>0.00</td>\n",
       "      <td>NaN</td>\n",
       "      <td>NaN</td>\n",
       "      <td>UNSPECIFIED</td>\n",
       "      <td></td>\n",
       "      <td></td>\n",
       "      <td>UNSPECIFIED</td>\n",
       "      <td>0</td>\n",
       "      <td>0.0</td>\n",
       "    </tr>\n",
       "  </tbody>\n",
       "</table>\n",
       "<p>10292 rows × 11 columns</p>\n",
       "</div>"
      ]
     },
     "execution_count": 3,
     "metadata": {},
     "output_type": "execute_result"
    }
   ],
   "execution_count": 3
  },
  {
   "metadata": {},
   "cell_type": "markdown",
   "source": "## Step 4: Preprocess the Data",
   "id": "e0fa6273400d9645"
  },
  {
   "metadata": {
    "ExecuteTime": {
     "end_time": "2025-04-22T18:05:09.003961Z",
     "start_time": "2025-04-22T18:05:08.982904Z"
    }
   },
   "cell_type": "code",
   "source": [
    "df_clean = df.dropna()\n",
    "df_encoded = pd.get_dummies(df_clean, columns=['Country', 'City', 'Origin', 'Category'], drop_first=True)"
   ],
   "id": "dc6bf5685a02873",
   "outputs": [],
   "execution_count": 4
  },
  {
   "metadata": {
    "ExecuteTime": {
     "end_time": "2025-04-22T18:05:09.010478Z",
     "start_time": "2025-04-22T18:05:09.004970Z"
    }
   },
   "cell_type": "code",
   "source": [
    "X = df_encoded.drop(columns=[\"Invoice_Amount\"])\n",
    "y = df_encoded[\"Invoice_Amount\"]\n"
   ],
   "id": "71003918e6ad8650",
   "outputs": [],
   "execution_count": 5
  },
  {
   "metadata": {
    "ExecuteTime": {
     "end_time": "2025-04-22T18:05:09.018907Z",
     "start_time": "2025-04-22T18:05:09.012003Z"
    }
   },
   "cell_type": "code",
   "source": "X_train, X_test, y_train, y_test = train_test_split(X, y, test_size=0.2, random_state=42)",
   "id": "5f8ca5e4fd70dac6",
   "outputs": [],
   "execution_count": 6
  },
  {
   "metadata": {},
   "cell_type": "markdown",
   "source": "## Step 5: Train and Evaluate Linear Regression",
   "id": "2f727e5fb55bece5"
  },
  {
   "metadata": {
    "ExecuteTime": {
     "end_time": "2025-04-22T18:05:09.100919Z",
     "start_time": "2025-04-22T18:05:09.019916Z"
    }
   },
   "cell_type": "code",
   "source": [
    "from sklearn.linear_model import LinearRegression\n",
    "from sklearn.metrics import mean_squared_error, mean_absolute_error, r2_score\n",
    "\n",
    "# Train\n",
    "lr = LinearRegression()\n",
    "lr.fit(X_train, y_train)\n",
    "\n",
    "# Predict\n",
    "y_pred_lr = lr.predict(X_test)\n",
    "\n",
    "# Evaluate\n",
    "mse_lr = mean_squared_error(y_test, y_pred_lr)\n",
    "mae_lr = mean_absolute_error(y_test, y_pred_lr)\n",
    "r2_lr = r2_score(y_test, y_pred_lr)\n",
    "\n",
    "print(\"Linear Regression:\")\n",
    "print(f\"  MSE: {mse_lr:.2f}\")\n",
    "print(f\"  MAE: {mae_lr:.2f}\")\n",
    "print(f\"  R²:  {r2_lr:.4f}\")"
   ],
   "id": "df4afd0ad264ca46",
   "outputs": [
    {
     "name": "stdout",
     "output_type": "stream",
     "text": [
      "Linear Regression:\n",
      "  MSE: 2352192.04\n",
      "  MAE: 1290.80\n",
      "  R²:  0.0780\n"
     ]
    }
   ],
   "execution_count": 7
  },
  {
   "metadata": {
    "ExecuteTime": {
     "end_time": "2025-04-22T18:05:09.320113Z",
     "start_time": "2025-04-22T18:05:09.101928Z"
    }
   },
   "cell_type": "code",
   "source": [
    "import matplotlib.pyplot as plt\n",
    "\n",
    "# Plot Actual vs Predicted\n",
    "plt.figure(figsize=(10, 6))\n",
    "plt.scatter(y_test, y_pred_lr, color='skyblue', edgecolor='k', alpha=0.7)\n",
    "plt.plot([y_test.min(), y_test.max()], [y_test.min(), y_test.max()], 'r--', lw=2)  # Perfect prediction line\n",
    "plt.xlabel('Actual Values')\n",
    "plt.ylabel('Predicted Values')\n",
    "plt.title('Linear Regression: Actual vs Predicted')\n",
    "plt.grid(True)\n",
    "plt.tight_layout()\n",
    "plt.show()\n"
   ],
   "id": "47bd59f69e98377b",
   "outputs": [
    {
     "data": {
      "text/plain": [
       "<Figure size 1000x600 with 1 Axes>"
      ],
      "image/png": "[encoded data removed]"
     },
     "metadata": {},
     "output_type": "display_data"
    }
   ],
   "execution_count": 8
  },
  {
   "metadata": {},
   "cell_type": "markdown",
   "source": "## Step 6: Train and Evaluate Random Forest",
   "id": "44391502c9ba597e"
  },
  {
   "metadata": {
    "ExecuteTime": {
     "end_time": "2025-04-22T18:05:10.736733Z",
     "start_time": "2025-04-22T18:05:09.321120Z"
    }
   },
   "cell_type": "code",
   "source": [
    "from sklearn.ensemble import RandomForestRegressor\n",
    "\n",
    "rf = RandomForestRegressor(n_estimators=100, random_state=42)\n",
    "rf.fit(X_train, y_train)\n",
    "\n",
    "y_pred_rf = rf.predict(X_test)\n",
    "\n",
    "mse_rf = mean_squared_error(y_test, y_pred_rf)\n",
    "mae_rf = mean_absolute_error(y_test, y_pred_rf)\n",
    "r2_rf = r2_score(y_test, y_pred_rf)\n",
    "\n",
    "print(\"Random Forest:\")\n",
    "print(f\"  MSE: {mse_rf:.2f}\")\n",
    "print(f\"  MAE: {mae_rf:.2f}\")\n",
    "print(f\"  R²:  {r2_rf:.4f}\")\n"
   ],
   "id": "407e9336e8c4631a",
   "outputs": [
    {
     "name": "stdout",
     "output_type": "stream",
     "text": [
      "Random Forest:\n",
      "  MSE: 2406694.84\n",
      "  MAE: 1296.22\n",
      "  R²:  0.0566\n"
     ]
    }
   ],
   "execution_count": 9
  },
  {
   "metadata": {},
   "cell_type": "markdown",
   "source": "## Step 7: Train and Evaluate XGBoost",
   "id": "2660cabc77d518"
  },
  {
   "metadata": {
    "ExecuteTime": {
     "end_time": "2025-04-22T18:05:11.099856Z",
     "start_time": "2025-04-22T18:05:10.737740Z"
    }
   },
   "cell_type": "code",
   "source": [
    "from xgboost import XGBRegressor\n",
    "\n",
    "xgb = XGBRegressor(n_estimators=100, random_state=42)\n",
    "xgb.fit(X_train, y_train)\n",
    "\n",
    "y_pred_xgb = xgb.predict(X_test)\n",
    "\n",
    "mse_xgb = mean_squared_error(y_test, y_pred_xgb)\n",
    "mae_xgb = mean_absolute_error(y_test, y_pred_xgb)\n",
    "r2_xgb = r2_score(y_test, y_pred_xgb)\n",
    "\n",
    "print(\"XGBoost:\")\n",
    "print(f\"  MSE: {mse_xgb:.2f}\")\n",
    "print(f\"  MAE: {mae_xgb:.2f}\")\n",
    "print(f\"  R²:  {r2_xgb:.4f}\")\n"
   ],
   "id": "802e5a59740076af",
   "outputs": [
    {
     "name": "stdout",
     "output_type": "stream",
     "text": [
      "XGBoost:\n",
      "  MSE: 2483383.69\n",
      "  MAE: 1307.63\n",
      "  R²:  0.0265\n"
     ]
    }
   ],
   "execution_count": 10
  },
  {
   "metadata": {},
   "cell_type": "markdown",
   "source": "## Step 8: Compare All Models",
   "id": "358d0c7413e238b4"
  },
  {
   "metadata": {
    "ExecuteTime": {
     "end_time": "2025-04-22T18:05:11.113665Z",
     "start_time": "2025-04-22T18:05:11.102956Z"
    }
   },
   "cell_type": "code",
   "source": [
    "results_df = pd.DataFrame({\n",
    "    \"Model\": [\"Linear Regression\", \"Random Forest\", \"XGBoost\"],\n",
    "    \"MSE\": [mse_lr, mse_rf, mse_xgb],\n",
    "    \"MAE\": [mae_lr, mae_rf, mae_xgb],\n",
    "    \"R²\": [r2_lr, r2_rf, r2_xgb]\n",
    "})\n",
    "\n",
    "results_df.sort_values(by=\"R²\", ascending=False)"
   ],
   "id": "baeb668ed2c842a6",
   "outputs": [
    {
     "data": {
      "text/plain": [
       "               Model           MSE          MAE        R²\n",
       "0  Linear Regression  2.352192e+06  1290.796956  0.077959\n",
       "1      Random Forest  2.406695e+06  1296.216740  0.056594\n",
       "2            XGBoost  2.483384e+06  1307.625252  0.026533"
      ],
      "text/html": [
       "<div>\n",
       "<style scoped>\n",
       "    .dataframe tbody tr th:only-of-type {\n",
       "        vertical-align: middle;\n",
       "    }\n",
       "\n",
       "    .dataframe tbody tr th {\n",
       "        vertical-align: top;\n",
       "    }\n",
       "\n",
       "    .dataframe thead th {\n",
       "        text-align: right;\n",
       "    }\n",
       "</style>\n",
       "<table border=\"1\" class=\"dataframe\">\n",
       "  <thead>\n",
       "    <tr style=\"text-align: right;\">\n",
       "      <th></th>\n",
       "      <th>Model</th>\n",
       "      <th>MSE</th>\n",
       "      <th>MAE</th>\n",
       "      <th>R²</th>\n",
       "    </tr>\n",
       "  </thead>\n",
       "  <tbody>\n",
       "    <tr>\n",
       "      <th>0</th>\n",
       "      <td>Linear Regression</td>\n",
       "      <td>2.352192e+06</td>\n",
       "      <td>1290.796956</td>\n",
       "      <td>0.077959</td>\n",
       "    </tr>\n",
       "    <tr>\n",
       "      <th>1</th>\n",
       "      <td>Random Forest</td>\n",
       "      <td>2.406695e+06</td>\n",
       "      <td>1296.216740</td>\n",
       "      <td>0.056594</td>\n",
       "    </tr>\n",
       "    <tr>\n",
       "      <th>2</th>\n",
       "      <td>XGBoost</td>\n",
       "      <td>2.483384e+06</td>\n",
       "      <td>1307.625252</td>\n",
       "      <td>0.026533</td>\n",
       "    </tr>\n",
       "  </tbody>\n",
       "</table>\n",
       "</div>"
      ]
     },
     "execution_count": 11,
     "metadata": {},
     "output_type": "execute_result"
    }
   ],
   "execution_count": 11
  },
  {
   "metadata": {
    "ExecuteTime": {
     "end_time": "2025-04-22T18:05:11.282227Z",
     "start_time": "2025-04-22T18:05:11.114673Z"
    }
   },
   "cell_type": "code",
   "source": [
    "# Create the plot\n",
    "ax = results_df[[\"R²\"]].plot(kind=\"bar\", title=\"Model Comparison (R²)\", figsize=(8, 5), legend=False)\n",
    "\n",
    "# Set labels\n",
    "ax.set_xlabel(\"Model\")\n",
    "ax.set_ylabel(\"R² Score\")\n",
    "\n",
    "# Set x-tick labels for the models\n",
    "ax.set_xticks(range(len(results_df)))  # One tick per model\n",
    "ax.set_xticklabels([\"Linear Regression\", \"Random Forest\", \"XGBoost\"])\n",
    "\n",
    "# Add grid\n",
    "plt.grid(True)\n",
    "\n",
    "# Add diagonal rotation to the labels\n",
    "plt.xticks(rotation=45, ha='right')\n",
    "\n",
    "# Show the plot\n",
    "plt.show()"
   ],
   "id": "1bd7849b2ea3d8f7",
   "outputs": [
    {
     "data": {
      "text/plain": [
       "<Figure size 800x500 with 1 Axes>"
      ],
      "image/png": "[encoded data removed]"
     },
     "metadata": {},
     "output_type": "display_data"
    }
   ],
   "execution_count": 12
  },
  {
   "metadata": {},
   "cell_type": "markdown",
   "source": "Best One is Linear Regression",
   "id": "e2c7460453536095"
  },
  {
   "metadata": {},
   "cell_type": "markdown",
   "source": "## ✅ Save the Trained Linear Regression Model & Scaler",
   "id": "63f0d5435dd2aac4"
  },
  {
   "metadata": {
    "ExecuteTime": {
     "end_time": "2025-04-22T18:29:20.223523Z",
     "start_time": "2025-04-22T18:29:20.191241Z"
    }
   },
   "cell_type": "code",
   "source": [
    "import joblib\n",
    "from sklearn.preprocessing import StandardScaler\n",
    "\n",
    "# Standardize your data before saving the scaler\n",
    "scaler = StandardScaler()\n",
    "X_scaled = scaler.fit_transform(X)\n",
    "\n",
    "# Retrain the model on the full dataset (optional but often better for deployment)\n",
    "lr_final = LinearRegression()\n",
    "lr_final.fit(X_scaled, y)\n",
    "\n",
    "# Save the model and scaler\n",
    "joblib.dump(lr_final, 'sro_purchasing_director_model.pkl')\n",
    "joblib.dump(scaler, 'sro_purchasing_director_scaler.pkl')\n"
   ],
   "id": "c52a333baae081f9",
   "outputs": [
    {
     "data": {
      "text/plain": [
       "['sro_purchasing_director_scaler.pkl']"
      ]
     },
     "execution_count": 13,
     "metadata": {},
     "output_type": "execute_result"
    }
   ],
   "execution_count": 13
  },
  {
   "metadata": {},
   "cell_type": "markdown",
   "source": "## Use in Power BI (Python Script Visual or Data Transformation)",
   "id": "f2c00c0687227919"
  },
  {
   "metadata": {},
   "cell_type": "code",
   "outputs": [],
   "execution_count": null,
   "source": [
    "import pandas as pd\n",
    "import joblib\n",
    "\n",
    "# Load trained model and scaler\n",
    "lr_model = joblib.load('C:/Path/To/Your/sro_purchasing_director_model.pkl')\n",
    "scaler = joblib.load('C:/Path/To/Your/sro_purchasing_director_scaler.pkl')\n",
    "\n",
    "# Preprocess dataset (Power BI injects it as 'dataset')\n",
    "dataset[['Invoice_VATRate', 'Product_Price', 'Delay_Invoice', 'Delay_Payment', 'Invoice_Amount']] = dataset[[\n",
    "    'Invoice_VATRate', 'Product_Price', 'Delay_Invoice', 'Delay_Payment', 'Invoice_Amount'\n",
    "]].fillna(0)\n",
    "\n",
    "dataset[['Origin', 'Category']] = dataset[['Origin', 'Category']].fillna('UNSPECIFIED')\n",
    "dataset[['Country', 'City']] = dataset[['Country', 'City']].fillna('UNKNOWN')\n",
    "\n",
    "# One-hot encode like in training\n",
    "dataset_encoded = pd.get_dummies(dataset, columns=['Country', 'City', 'Origin', 'Category'], drop_first=True)\n",
    "\n",
    "# Align features\n",
    "model_columns = lr_model.feature_names_in_  # Available in sklearn 1.0+\n",
    "missing_cols = set(model_columns) - set(dataset_encoded.columns)\n",
    "for col in missing_cols:\n",
    "    dataset_encoded[col] = 0\n",
    "dataset_encoded = dataset_encoded[model_columns]\n",
    "\n",
    "# Scale\n",
    "X_scaled = scaler.transform(dataset_encoded)\n",
    "\n",
    "# Predict\n",
    "dataset['Predicted_Invoice_Amount'] = lr_model.predict(X_scaled)\n",
    "\n",
    "# Output to Power BI\n",
    "result = dataset[['Invoice_Amount', 'Predicted_Invoice_Amount']]  # Or more if needed\n"
   ],
   "id": "311070bb3bb94eb2"
  }
 ],
 "metadata": {
  "kernelspec": {
   "display_name": "Python 3",
   "language": "python",
   "name": "python3"
  },
  "language_info": {
   "codemirror_mode": {
    "name": "ipython",
    "version": 2
   },
   "file_extension": ".py",
   "mimetype": "text/x-python",
   "name": "python",
   "nbconvert_exporter": "python",
   "pygments_lexer": "ipython2",
   "version": "2.7.6"
  }
 },
 "nbformat": 4,
 "nbformat_minor": 5
}
